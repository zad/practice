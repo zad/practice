{
 "cells": [
  {
   "cell_type": "code",
   "execution_count": 9,
   "metadata": {
    "collapsed": false
   },
   "outputs": [],
   "source": [
    "import pandas as pd\n",
    "pd.set_option('display.mpl_style', 'default') # Make the graphs a bit prettier"
   ]
  },
  {
   "cell_type": "code",
   "execution_count": 10,
   "metadata": {
    "collapsed": false
   },
   "outputs": [
    {
     "data": {
      "text/html": [
       "<pre>\n",
       "&lt;class 'pandas.core.frame.DataFrame'&gt;\n",
       "DatetimeIndex: 3 entries, 2012-01-01 00:00:00 to 2012-01-03 00:00:00\n",
       "Data columns (total 9 columns):\n",
       "Berri 1                                 3  non-null values\n",
       "BrÃ©beuf (donnÃ©es non disponibles)     0  non-null values\n",
       "CÃ´te-Sainte-Catherine                  3  non-null values\n",
       "Maisonneuve 1                           3  non-null values\n",
       "Maisonneuve 2                           3  non-null values\n",
       "du Parc                                 3  non-null values\n",
       "Pierre-Dupuy                            3  non-null values\n",
       "Rachel1                                 3  non-null values\n",
       "St-Urbain (donnÃ©es non disponibles)    0  non-null values\n",
       "dtypes: float64(2), int64(7)\n",
       "</pre>"
      ],
      "text/plain": [
       "            Berri 1  BrÃ©beuf (donnÃ©es non disponibles)  \\\n",
       "Date                                                       \n",
       "2012-01-01       35                                  NaN   \n",
       "2012-01-02       83                                  NaN   \n",
       "2012-01-03      135                                  NaN   \n",
       "\n",
       "            CÃ´te-Sainte-Catherine  Maisonneuve 1  Maisonneuve 2  du Parc  \\\n",
       "Date                                                                        \n",
       "2012-01-01                       0             38             51       26   \n",
       "2012-01-02                       1             68            153       53   \n",
       "2012-01-03                       2            104            248       89   \n",
       "\n",
       "            Pierre-Dupuy  Rachel1  St-Urbain (donnÃ©es non disponibles)  \n",
       "Date                                                                     \n",
       "2012-01-01            10       16                                   NaN  \n",
       "2012-01-02             6       43                                   NaN  \n",
       "2012-01-03             3       58                                   NaN  "
      ]
     },
     "execution_count": 10,
     "metadata": {},
     "output_type": "execute_result"
    }
   ],
   "source": [
    "fixed_df = pd.read_csv('bikes.csv', sep=';', encoding='latin1', parse_dates=['Date'], dayfirst=True, index_col='Date')\n",
    "fixed_df[:3]"
   ]
  }
 ],
 "metadata": {
  "kernelspec": {
   "display_name": "Python 2",
   "language": "python",
   "name": "python2"
  },
  "language_info": {
   "codemirror_mode": {
    "name": "ipython",
    "version": 2
   },
   "file_extension": ".py",
   "mimetype": "text/x-python",
   "name": "python",
   "nbconvert_exporter": "python",
   "pygments_lexer": "ipython2",
   "version": "2.7.5"
  }
 },
 "nbformat": 4,
 "nbformat_minor": 0
}
