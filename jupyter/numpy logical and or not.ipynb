{
 "cells": [
  {
   "cell_type": "code",
   "execution_count": 4,
   "metadata": {
    "collapsed": false
   },
   "outputs": [
    {
     "name": "stdout",
     "output_type": "stream",
     "text": [
      "[ True False False False]\n",
      "[ True False False False]\n",
      "[ True False  True  True]\n",
      "[ True False  True  True]\n"
     ]
    }
   ],
   "source": [
    "import numpy as np\n",
    "a = np.array([True, False, True, False])\n",
    "b = np.array([True, False, False, True])\n",
    "c = a & b\n",
    "print c\n",
    "d = np.logical_and(a,b)\n",
    "print d\n",
    "c = a | b\n",
    "print c\n",
    "d = np.logical_or(a,b)\n",
    "print d\n",
    "c = ~ b\n",
    "print c\n",
    "d = np.logical_(a,b)\n",
    "print d"
   ]
  }
 ],
 "metadata": {
  "kernelspec": {
   "display_name": "Python 2",
   "language": "python",
   "name": "python2"
  },
  "language_info": {
   "codemirror_mode": {
    "name": "ipython",
    "version": 2
   },
   "file_extension": ".py",
   "mimetype": "text/x-python",
   "name": "python",
   "nbconvert_exporter": "python",
   "pygments_lexer": "ipython2",
   "version": "2.7.5"
  }
 },
 "nbformat": 4,
 "nbformat_minor": 0
}
